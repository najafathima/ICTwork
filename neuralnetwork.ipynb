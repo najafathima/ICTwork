{
  "nbformat": 4,
  "nbformat_minor": 0,
  "metadata": {
    "colab": {
      "provenance": [],
      "authorship_tag": "ABX9TyNEjkn1FRrHprYNWQDs1+lH",
      "include_colab_link": true
    },
    "kernelspec": {
      "name": "python3",
      "display_name": "Python 3"
    },
    "language_info": {
      "name": "python"
    }
  },
  "cells": [
    {
      "cell_type": "markdown",
      "metadata": {
        "id": "view-in-github",
        "colab_type": "text"
      },
      "source": [
        "<a href=\"https://colab.research.google.com/github/najafathima/ICTwork/blob/main/neuralnetwork.ipynb\" target=\"_parent\"><img src=\"https://colab.research.google.com/assets/colab-badge.svg\" alt=\"Open In Colab\"/></a>"
      ]
    },
    {
      "cell_type": "code",
      "execution_count": 14,
      "metadata": {
        "colab": {
          "base_uri": "https://localhost:8080/"
        },
        "id": "kR2vxFVTJGJZ",
        "outputId": "684203a5-a7eb-40a6-d399-b6e31d6ec0ac"
      },
      "outputs": [
        {
          "output_type": "stream",
          "name": "stdout",
          "text": [
            "1/1 [==============================] - 0s 53ms/step\n",
            "[[0.01435771 0.45540136 0.01065428 0.03379793 0.22152458 0.01461078\n",
            "  0.01948862 0.07679155 0.11457002 0.03880306]]\n"
          ]
        }
      ],
      "source": [
        "import tensorflow as tf\n",
        "from tensorflow.keras.layers import Flatten, Dense\n",
        "from tensorflow.keras.models import Sequential\n",
        "import numpy as np\n",
        "import cv2\n",
        "\n",
        "# Load your image\n",
        "image = cv2.imread('/content/7image.jpg')\n",
        "\n",
        "# Resize the image to 28x28 pixels\n",
        "image_resized = cv2.resize(image, (28, 28))\n",
        "\n",
        "# Convert the image to grayscale\n",
        "image_gray = cv2.cvtColor(image_resized, cv2.COLOR_BGR2GRAY)\n",
        "\n",
        "# Normalize the pixel values\n",
        "image_normalized = image_gray / 255.0\n",
        "\n",
        "# Reshape the image to match the input shape expected by the model\n",
        "image_reshaped = np.expand_dims(image_normalized, axis=0)\n",
        "\n",
        "# Define your model\n",
        "model = Sequential([\n",
        "    Flatten(input_shape=(28, 28)),\n",
        "    Dense(128, activation='relu'),\n",
        "    Dense(10,activation=\"softmax\")\n",
        "])\n",
        "\n",
        "# Compile the model\n",
        "model.compile(\n",
        "    optimizer=tf.keras.optimizers.Adam(0.001),\n",
        "    loss=tf.keras.losses.SparseCategoricalCrossentropy(from_logits=False),\n",
        "    metrics=[tf.keras.metrics.SparseCategoricalAccuracy()]\n",
        ")\n",
        "\n",
        "# Make predictions\n",
        "predictions = model.predict(image_reshaped)\n",
        "\n",
        "# Display predictions\n",
        "print(predictions)"
      ]
    }
  ]
}