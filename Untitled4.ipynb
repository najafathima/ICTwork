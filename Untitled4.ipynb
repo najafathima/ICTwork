{
  "nbformat": 4,
  "nbformat_minor": 0,
  "metadata": {
    "colab": {
      "provenance": [],
      "authorship_tag": "ABX9TyOiFTISRGsGlXmM1CL0YFW6",
      "include_colab_link": true
    },
    "kernelspec": {
      "name": "python3",
      "display_name": "Python 3"
    },
    "language_info": {
      "name": "python"
    }
  },
  "cells": [
    {
      "cell_type": "markdown",
      "metadata": {
        "id": "view-in-github",
        "colab_type": "text"
      },
      "source": [
        "<a href=\"https://colab.research.google.com/github/najafathima/ICTwork/blob/main/Untitled4.ipynb\" target=\"_parent\"><img src=\"https://colab.research.google.com/assets/colab-badge.svg\" alt=\"Open In Colab\"/></a>"
      ]
    },
    {
      "cell_type": "code",
      "execution_count": null,
      "metadata": {
        "id": "rRE6d0616tF_"
      },
      "outputs": [],
      "source": [
        "def summarize_text(text, word_count):\n",
        "    sentences = text.split('.')\n",
        "    sentences = [sentence.strip() for sentence in sentences if sentence.strip()]\n",
        "    word_counts = [len(sentence.split()) for sentence in sentences]\n",
        "    sorted_sentences = sorted(zip(sentences, word_counts), key=lambda x: x[1], reverse=True)\n",
        "    summary = []\n",
        "    current_word_count = 0\n",
        "    for sentence, word_count in sorted_sentences:\n",
        "        if current_word_count + word_count <= word_count:\n",
        "            summary.append(sentence)\n",
        "            current_word_count += word_count\n",
        "        else:\n",
        "            break\n",
        "    summary = '. '.join(summary)\n",
        "    return summary\n",
        "\n",
        "# Get user input for the text and word count\n",
        "text = input(\"Enter the text you want to summarize: \")\n",
        "word_count = int(input(\"Enter the desired word count for the summary: \"))\n",
        "\n",
        "# Call the function to summarize the text\n",
        "summary = summarize_text(text, word_count)\n",
        "print(\"Summary:\")\n",
        "print(summary)"
      ]
    }
  ]
}